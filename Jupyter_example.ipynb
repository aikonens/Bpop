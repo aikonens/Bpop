{
 "cells": [
  {
   "cell_type": "code",
   "execution_count": 1,
   "metadata": {},
   "outputs": [],
   "source": [
    "from Bpop import Bpop"
   ]
  },
  {
   "cell_type": "code",
   "execution_count": 2,
   "metadata": {},
   "outputs": [],
   "source": [
    "bepop = Bpop.Bpop(energies=[-4069.6304897, -4069.6290121, -4069.6275954, -4069.6281063, -4069.6300194, -4069.6272901], \n",
    "                names=['conf1', 'conf2', 'conf3', 'conf4', 'conf5', 'conf6'], etype='abs')"
   ]
  },
  {
   "cell_type": "markdown",
   "metadata": {},
   "source": [
    "Print properties"
   ]
  },
  {
   "cell_type": "code",
   "execution_count": 3,
   "metadata": {},
   "outputs": [
    {
     "name": "stdout",
     "output_type": "stream",
     "text": [
      "Gboltz = -4069.6304897 a.u.\n",
      "Gboltz = -4069.629971 a.u.\n",
      "Gconf = -0.7294 kcal/mol\n",
      "Gboltz_Gconf = -4069.6311334 a.u.\n"
     ]
    }
   ],
   "source": [
    "### Gibbs free energy values\n",
    "print(f'Gmin = {bepop.Gmin()} a.u.')\n",
    "print(f'Gboltz = {bepop.Gboltz()[0][0]} a.u.')\n",
    "print(f'Gconf = {bepop.Gconf()[0]} kcal/mol')\n",
    "print(f'Gboltz_Gconf = {bepop.Gboltz()[1][0]} a.u.')"
   ]
  },
  {
   "cell_type": "markdown",
   "metadata": {},
   "source": [
    "Relative energies in the order they are provided"
   ]
  },
  {
   "cell_type": "code",
   "execution_count": null,
   "metadata": {},
   "outputs": [],
   "source": [
    "bepop.calcRel()"
   ]
  },
  {
   "cell_type": "markdown",
   "metadata": {},
   "source": [
    "Dataframe of results"
   ]
  },
  {
   "cell_type": "code",
   "execution_count": null,
   "metadata": {},
   "outputs": [],
   "source": [
    "bepop.boltzmannDF()"
   ]
  },
  {
   "cell_type": "code",
   "execution_count": null,
   "metadata": {},
   "outputs": [],
   "source": []
  }
 ],
 "metadata": {
  "interpreter": {
   "hash": "614af3c23337cf93b39fc5b6ff3cdcade6a4d841cfe5b5c33e216ab3c99f2e95"
  },
  "kernelspec": {
   "display_name": "Python 3.9.7 ('my-rdkit-env')",
   "language": "python",
   "name": "python3"
  },
  "language_info": {
   "codemirror_mode": {
    "name": "ipython",
    "version": 3
   },
   "file_extension": ".py",
   "mimetype": "text/x-python",
   "name": "python",
   "nbconvert_exporter": "python",
   "pygments_lexer": "ipython3",
   "version": "3.9.7"
  },
  "orig_nbformat": 4
 },
 "nbformat": 4,
 "nbformat_minor": 2
}
