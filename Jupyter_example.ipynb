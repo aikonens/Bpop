{
 "cells": [
  {
   "cell_type": "code",
   "execution_count": 1,
   "metadata": {},
   "outputs": [],
   "source": [
    "from Bpop import Bpop"
   ]
  },
  {
   "cell_type": "code",
   "execution_count": 2,
   "metadata": {},
   "outputs": [],
   "source": [
    "bepop = Bpop.Bpop(energies=[-4069.6304897, -4069.6290121, -4069.6275954, -4069.6281063, -4069.6300194, -4069.6272901], \n",
    "                names=['conf1', 'conf2', 'conf3', 'conf4', 'conf5', 'conf6'], etype='abs')"
   ]
  },
  {
   "cell_type": "markdown",
   "metadata": {},
   "source": [
    "Print properties"
   ]
  },
  {
   "cell_type": "code",
   "execution_count": 3,
   "metadata": {},
   "outputs": [
    {
     "name": "stdout",
     "output_type": "stream",
     "text": [
      "Gmin = -4069.6304897 a.u.\n",
      "Gboltz = -4069.629971 a.u.\n",
      "Gconf = -0.7294 kcal/mol\n",
      "Gboltz_Gconf = -4069.6311334 a.u.\n"
     ]
    }
   ],
   "source": [
    "### Gibbs free energy values\n",
    "print(f'Gmin = {bepop.Gmin()} a.u.')\n",
    "print(f'Gboltz = {bepop.Gboltz()[0][0]} a.u.')\n",
    "print(f'Gconf = {bepop.Gconf()[0]} kcal/mol')\n",
    "print(f'Gboltz_Gconf = {bepop.Gboltz()[1][0]} a.u.')"
   ]
  },
  {
   "cell_type": "markdown",
   "metadata": {},
   "source": [
    "Relative energies in the order they are provided"
   ]
  },
  {
   "cell_type": "code",
   "execution_count": 4,
   "metadata": {},
   "outputs": [
    {
     "data": {
      "text/plain": [
       "[0.0, 0.93, 1.82, 1.5, 0.3, 2.01]"
      ]
     },
     "execution_count": 4,
     "metadata": {},
     "output_type": "execute_result"
    }
   ],
   "source": [
    "bepop.calcRel()"
   ]
  },
  {
   "cell_type": "markdown",
   "metadata": {},
   "source": [
    "Dataframe of results"
   ]
  },
  {
   "cell_type": "code",
   "execution_count": 5,
   "metadata": {},
   "outputs": [
    {
     "data": {
      "text/html": [
       "<div>\n",
       "<style scoped>\n",
       "    .dataframe tbody tr th:only-of-type {\n",
       "        vertical-align: middle;\n",
       "    }\n",
       "\n",
       "    .dataframe tbody tr th {\n",
       "        vertical-align: top;\n",
       "    }\n",
       "\n",
       "    .dataframe thead th {\n",
       "        text-align: right;\n",
       "    }\n",
       "</style>\n",
       "<table border=\"1\" class=\"dataframe\">\n",
       "  <thead>\n",
       "    <tr style=\"text-align: right;\">\n",
       "      <th></th>\n",
       "      <th>Name</th>\n",
       "      <th>G (a.u.)</th>\n",
       "      <th>∆G (kcal/mol)</th>\n",
       "      <th>Boltzmann-298.15</th>\n",
       "    </tr>\n",
       "  </thead>\n",
       "  <tbody>\n",
       "    <tr>\n",
       "      <th>0</th>\n",
       "      <td>conf1</td>\n",
       "      <td>-4069.630490</td>\n",
       "      <td>0.00</td>\n",
       "      <td>0.507563</td>\n",
       "    </tr>\n",
       "    <tr>\n",
       "      <th>1</th>\n",
       "      <td>conf2</td>\n",
       "      <td>-4069.629012</td>\n",
       "      <td>0.93</td>\n",
       "      <td>0.105624</td>\n",
       "    </tr>\n",
       "    <tr>\n",
       "      <th>2</th>\n",
       "      <td>conf3</td>\n",
       "      <td>-4069.627595</td>\n",
       "      <td>1.82</td>\n",
       "      <td>0.023500</td>\n",
       "    </tr>\n",
       "    <tr>\n",
       "      <th>3</th>\n",
       "      <td>conf4</td>\n",
       "      <td>-4069.628106</td>\n",
       "      <td>1.50</td>\n",
       "      <td>0.040351</td>\n",
       "    </tr>\n",
       "    <tr>\n",
       "      <th>4</th>\n",
       "      <td>conf5</td>\n",
       "      <td>-4069.630019</td>\n",
       "      <td>0.30</td>\n",
       "      <td>0.305908</td>\n",
       "    </tr>\n",
       "    <tr>\n",
       "      <th>5</th>\n",
       "      <td>conf6</td>\n",
       "      <td>-4069.627290</td>\n",
       "      <td>2.01</td>\n",
       "      <td>0.017054</td>\n",
       "    </tr>\n",
       "  </tbody>\n",
       "</table>\n",
       "</div>"
      ],
      "text/plain": [
       "    Name     G (a.u.)  ∆G (kcal/mol)  Boltzmann-298.15\n",
       "0  conf1 -4069.630490           0.00          0.507563\n",
       "1  conf2 -4069.629012           0.93          0.105624\n",
       "2  conf3 -4069.627595           1.82          0.023500\n",
       "3  conf4 -4069.628106           1.50          0.040351\n",
       "4  conf5 -4069.630019           0.30          0.305908\n",
       "5  conf6 -4069.627290           2.01          0.017054"
      ]
     },
     "execution_count": 5,
     "metadata": {},
     "output_type": "execute_result"
    }
   ],
   "source": [
    "bepop.boltzmannDF()"
   ]
  },
  {
   "cell_type": "code",
   "execution_count": null,
   "metadata": {},
   "outputs": [],
   "source": []
  }
 ],
 "metadata": {
  "interpreter": {
   "hash": "614af3c23337cf93b39fc5b6ff3cdcade6a4d841cfe5b5c33e216ab3c99f2e95"
  },
  "kernelspec": {
   "display_name": "Python 3.9.7 ('my-rdkit-env')",
   "language": "python",
   "name": "python3"
  },
  "language_info": {
   "codemirror_mode": {
    "name": "ipython",
    "version": 3
   },
   "file_extension": ".py",
   "mimetype": "text/x-python",
   "name": "python",
   "nbconvert_exporter": "python",
   "pygments_lexer": "ipython3",
   "version": "3.9.7"
  },
  "orig_nbformat": 4
 },
 "nbformat": 4,
 "nbformat_minor": 2
}
